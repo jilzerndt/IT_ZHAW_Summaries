{
 "cells": [
  {
   "cell_type": "markdown",
   "metadata": {
    "pycharm": {
     "name": "#%% md\n"
    }
   },
   "source": [
    "# Idee der Householdertransformation"
   ]
  },
  {
   "cell_type": "code",
   "execution_count": 47,
   "metadata": {
    "pycharm": {
     "name": "#%%\n"
    }
   },
   "outputs": [],
   "source": [
    "import numpy as np"
   ]
  },
  {
   "cell_type": "code",
   "execution_count": 48,
   "metadata": {
    "pycharm": {
     "name": "#%%\n"
    }
   },
   "outputs": [],
   "source": [
    "np.set_printoptions(precision=2,suppress=True)"
   ]
  },
  {
   "cell_type": "code",
   "execution_count": 49,
   "metadata": {
    "pycharm": {
     "name": "#%%\n"
    }
   },
   "outputs": [
    {
     "name": "stdout",
     "output_type": "stream",
     "text": [
      "A=\n",
      " [[ 3  9 12 12]\n",
      " [-2 -5  7  2]\n",
      " [ 6 12 18  6]\n",
      " [ 3  7 38 14]]\n"
     ]
    }
   ],
   "source": [
    "A = np.array([[3, 9, 12, 12], [-2, -5, 7, 2], [6, 12, 18, 6],  [3, 7, 38, 14]])\n",
    "print('A=\\n', A)"
   ]
  },
  {
   "cell_type": "code",
   "execution_count": 50,
   "metadata": {
    "pycharm": {
     "name": "#%%\n"
    }
   },
   "outputs": [
    {
     "name": "stdout",
     "output_type": "stream",
     "text": [
      "R=\n",
      " [[ 6 12 18  6]\n",
      " [ 0  3  3  9]\n",
      " [ 0  0 28  8]\n",
      " [ 0  0  0  3]] \n",
      "L=\n",
      " [[ 1.    0.    0.    0.  ]\n",
      " [ 0.5   1.    0.    0.  ]\n",
      " [ 0.5   0.33  1.    0.  ]\n",
      " [-0.33 -0.33  0.5   1.  ]] \n",
      "P=\n",
      " [[0 0 1 0]\n",
      " [1 0 0 0]\n",
      " [0 0 0 1]\n",
      " [0 1 0 0]]\n"
     ]
    }
   ],
   "source": [
    "R = np.array([[6, 12, 18, 6], [0, 3, 3, 9], [0, 0, 28, 8],  [0, 0, 0, 3]])\n",
    "L = np.array([[1, 0, 0, 0], [1./2, 1, 0, 0], [1/2, 1/3, 1, 0],  [-1/3, -1/3, 1/2, 1]])\n",
    "P = np.array([[0, 0, 1, 0], [1, 0, 0, 0], [0, 0, 0, 1],  [0, 1, 0, 0]])\n",
    "print('R=\\n', R, '\\nL=\\n', L, '\\nP=\\n', P)"
   ]
  },
  {
   "cell_type": "code",
   "execution_count": 51,
   "metadata": {
    "pycharm": {
     "name": "#%%\n"
    }
   },
   "outputs": [
    {
     "name": "stdout",
     "output_type": "stream",
     "text": [
      "L@R=\n",
      " [[ 6. 12. 18.  6.]\n",
      " [ 3.  9. 12. 12.]\n",
      " [ 3.  7. 38. 14.]\n",
      " [-2. -5.  7.  2.]]\n",
      "P@A=\n",
      " [[ 6 12 18  6]\n",
      " [ 3  9 12 12]\n",
      " [ 3  7 38 14]\n",
      " [-2 -5  7  2]]\n",
      "L@R - P@A=\n",
      " [[0. 0. 0. 0.]\n",
      " [0. 0. 0. 0.]\n",
      " [0. 0. 0. 0.]\n",
      " [0. 0. 0. 0.]]\n"
     ]
    }
   ],
   "source": [
    "print('L@R=\\n', L@R)\n",
    "print('P@A=\\n', P@A)\n",
    "print('L@R - P@A=\\n', L@R-P@A)"
   ]
  },
  {
   "cell_type": "code",
   "execution_count": 52,
   "metadata": {
    "pycharm": {
     "name": "#%%\n"
    }
   },
   "outputs": [],
   "source": [
    "import scipy.linalg as sc\n",
    "\n",
    "P_scipy, L, R = sc.lu(A)\n"
   ]
  },
  {
   "cell_type": "code",
   "execution_count": 54,
   "metadata": {
    "pycharm": {
     "name": "#%%\n"
    }
   },
   "outputs": [
    {
     "name": "stdout",
     "output_type": "stream",
     "text": [
      "P_scipy=\n",
      " [[0. 1. 0. 0.]\n",
      " [0. 0. 0. 1.]\n",
      " [1. 0. 0. 0.]\n",
      " [0. 0. 1. 0.]]\n",
      "\n",
      "P_scipy@L@R=\n",
      " [[ 3.  9. 12. 12.]\n",
      " [-2. -5.  7.  2.]\n",
      " [ 6. 12. 18.  6.]\n",
      " [ 3.  7. 38. 14.]]\n",
      "\n",
      "A=\n",
      " [[ 3  9 12 12]\n",
      " [-2 -5  7  2]\n",
      " [ 6 12 18  6]\n",
      " [ 3  7 38 14]]\n",
      "\n",
      "A - P_scipy@L@R=\n",
      " [[0. 0. 0. 0.]\n",
      " [0. 0. 0. 0.]\n",
      " [0. 0. 0. 0.]\n",
      " [0. 0. 0. 0.]]\n",
      "\n",
      "P - P_scipy.T=\n",
      " [[0. 0. 0. 0.]\n",
      " [0. 0. 0. 0.]\n",
      " [0. 0. 0. 0.]\n",
      " [0. 0. 0. 0.]]\n"
     ]
    }
   ],
   "source": [
    "print('P_scipy=\\n', P_scipy)\n",
    "print('\\nP_scipy@L@R=\\n', P_scipy@L@R)\n",
    "print('\\nA=\\n', A)\n",
    "print('\\nA - P_scipy@L@R=\\n', A-P_scipy@L@R)\n",
    "print('\\nP - P_scipy.T=\\n', P-P_scipy.T)\n"
   ]
  },
  {
   "cell_type": "code",
   "execution_count": null,
   "metadata": {
    "pycharm": {
     "name": "#%%\n"
    }
   },
   "outputs": [],
   "source": []
  },
  {
   "cell_type": "code",
   "execution_count": null,
   "metadata": {},
   "outputs": [],
   "source": []
  }
 ],
 "metadata": {
  "kernelspec": {
   "display_name": "Python 3 (ipykernel)",
   "language": "python",
   "name": "python3"
  },
  "language_info": {
   "codemirror_mode": {
    "name": "ipython",
    "version": 3
   },
   "file_extension": ".py",
   "mimetype": "text/x-python",
   "name": "python",
   "nbconvert_exporter": "python",
   "pygments_lexer": "ipython3",
   "version": "3.10.5"
  }
 },
 "nbformat": 4,
 "nbformat_minor": 4
}
