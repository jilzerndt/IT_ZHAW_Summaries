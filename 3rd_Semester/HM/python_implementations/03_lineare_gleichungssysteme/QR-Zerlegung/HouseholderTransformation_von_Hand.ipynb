{
 "cells": [
  {
   "cell_type": "markdown",
   "metadata": {
    "pycharm": {
     "name": "#%% md\n"
    }
   },
   "source": [
    "# Idee der Householdertransformation"
   ]
  },
  {
   "cell_type": "code",
   "execution_count": 57,
   "metadata": {
    "pycharm": {
     "name": "#%%\n"
    }
   },
   "outputs": [],
   "source": [
    "import matplotlib.pyplot as plt\n",
    "import numpy as np\n",
    "from ipywidgets import interactive\n",
    "from numpy.linalg import norm"
   ]
  },
  {
   "cell_type": "code",
   "execution_count": 58,
   "metadata": {
    "pycharm": {
     "name": "#%%\n"
    }
   },
   "outputs": [],
   "source": [
    "np.set_printoptions(precision=2,suppress=True)"
   ]
  },
  {
   "cell_type": "code",
   "execution_count": 59,
   "metadata": {
    "pycharm": {
     "name": "#%%\n"
    }
   },
   "outputs": [],
   "source": [
    "def HouseholderTransformation(w):\n",
    "    return np.eye(w.shape[0])-2*np.outer(w,w)/np.dot(w,w)"
   ]
  },
  {
   "cell_type": "markdown",
   "metadata": {
    "pycharm": {
     "name": "#%% md\n"
    }
   },
   "source": [
    "Gesucht ist daher der geeignete Normalenvektor so, dass der gespiegelte Spaltenvektor auf die $e_1$ Achse zu liegen kommt.\n",
    "\n",
    "Sei mit $y$ der Spaltenvektor bezeichnet, so kann man zeigen (siehe Skript), dass der Vektor\n",
    "\n",
    "$$w = y \\pm \\|y\\|_2 e_1$$\n",
    "\n",
    "die gewünschte Eigenschaft hat. Um **Auslöschung** in der Berechnung von $w$ zu vermeiden, wählt man\n",
    "\n",
    "$$w = y + \\text{sign}(y_1) \\|y\\|_2 e_1$$\n",
    "\n",
    "mit\n",
    "\n",
    "$$\\text{sign}(s) = \\begin{cases} 1 & \\quad \\text{für} s \\ge 0\\\\ -1 & \\quad \\text{sonst}.\\end{cases}$$\n",
    "\n"
   ]
  },
  {
   "cell_type": "code",
   "execution_count": 60,
   "metadata": {
    "pycharm": {
     "name": "#%%\n"
    }
   },
   "outputs": [],
   "source": [
    "def mysign(x): # numpy sign liefert 0 für 0\n",
    "    if x >= 0:\n",
    "        return 1\n",
    "    else:\n",
    "        return -1"
   ]
  },
  {
   "cell_type": "markdown",
   "metadata": {
    "pycharm": {
     "name": "#%% md\n"
    }
   },
   "source": [
    "Funktion für den n-dimensionalen Einheitsvektor"
   ]
  },
  {
   "cell_type": "code",
   "execution_count": 61,
   "metadata": {
    "pycharm": {
     "name": "#%%\n"
    }
   },
   "outputs": [],
   "source": [
    "def e(n):\n",
    "    return np.array([1]+[0 for k in range(n-1)])"
   ]
  },
  {
   "cell_type": "markdown",
   "metadata": {
    "pycharm": {
     "name": "#%% md\n"
    }
   },
   "source": [
    "## Schrittweise QR-Zerlegung mit Hilfe der Householder-Transformation"
   ]
  },
  {
   "cell_type": "markdown",
   "metadata": {
    "pycharm": {
     "name": "#%% md\n"
    }
   },
   "source": [
    "Mit Hilfe der Householder-Transformation soll nun die Matrix $A$ in eine orthogonale Matrix $Q$ und reguläre obere Dreiecksmatrix $R$ zerlegt werden.\n",
    "\n",
    "Im Beispiel wählen wir eine beliebige Matrix $A \\in \\mathbb{R}^{5\\times5}$."
   ]
  },
  {
   "cell_type": "code",
   "execution_count": 62,
   "metadata": {
    "pycharm": {
     "name": "#%%\n"
    }
   },
   "outputs": [
    {
     "name": "stdout",
     "output_type": "stream",
     "text": [
      "5 5\n"
     ]
    }
   ],
   "source": [
    "A = np.array([[-1,  7, -8, -9,  6],\n",
    "       [-6, -8,  0,  3,  8],\n",
    "       [-4, -2,  8,  0, -2],\n",
    "       [-1, -9,  4, -8,  2],\n",
    "       [-3, -5, -5,  7, -4]\n",
    "       ],dtype=float)\n",
    "m,n = A.shape\n",
    "print(m,n)"
   ]
  },
  {
   "cell_type": "markdown",
   "metadata": {
    "pycharm": {
     "name": "#%% md\n"
    }
   },
   "source": [
    "### 1. Spalte"
   ]
  },
  {
   "cell_type": "code",
   "execution_count": 63,
   "metadata": {
    "pycharm": {
     "name": "#%%\n"
    }
   },
   "outputs": [],
   "source": [
    "k = 0"
   ]
  },
  {
   "cell_type": "markdown",
   "metadata": {
    "pycharm": {
     "name": "#%% md\n"
    }
   },
   "source": [
    "Die Hyperebene ist definiert durch"
   ]
  },
  {
   "cell_type": "code",
   "execution_count": 64,
   "metadata": {
    "pycharm": {
     "name": "#%%\n"
    }
   },
   "outputs": [
    {
     "name": "stdout",
     "output_type": "stream",
     "text": [
      "[-8.94 -6.   -4.   -1.   -3.  ]\n"
     ]
    }
   ],
   "source": [
    "w = A[k:,k] + mysign(A[k,k])*norm(A[k:,k])*e(m-k)\n",
    "print(w)"
   ]
  },
  {
   "cell_type": "markdown",
   "metadata": {
    "pycharm": {
     "name": "#%% md\n"
    }
   },
   "source": [
    "Für die Householder-Transformationsmatrix angewand auf $A$ erhalten wir"
   ]
  },
  {
   "cell_type": "code",
   "execution_count": 65,
   "metadata": {
    "pycharm": {
     "name": "#%%\n"
    }
   },
   "outputs": [
    {
     "name": "stdout",
     "output_type": "stream",
     "text": [
      "Q1:\n",
      " [[-0.13 -0.76 -0.5  -0.13 -0.38]\n",
      " [-0.76  0.49 -0.34 -0.08 -0.25]\n",
      " [-0.5  -0.34  0.77 -0.06 -0.17]\n",
      " [-0.13 -0.08 -0.06  0.99 -0.04]\n",
      " [-0.38 -0.25 -0.17 -0.04  0.87]]\n",
      "A1:\n",
      " [[ 7.94  9.2  -1.64 -2.77 -4.54]\n",
      " [-0.   -6.52  4.27  7.18  0.93]\n",
      " [ 0.   -1.02 10.85  2.79 -6.72]\n",
      " [ 0.   -8.75  4.71 -7.3   0.82]\n",
      " [-0.   -4.26 -2.86  9.09 -7.54]]\n"
     ]
    }
   ],
   "source": [
    "Q1 = HouseholderTransformation(w)\n",
    "print('Q1:\\n', Q1)\n",
    "A1 = Q1@A\n",
    "print('A1:\\n', A1)"
   ]
  },
  {
   "cell_type": "markdown",
   "metadata": {
    "pycharm": {
     "name": "#%% md\n"
    }
   },
   "source": [
    "In der ersten Spalte der Zwischenmatrix $A_1$ stehen nun abgesehen vom ersten Eintrag Nullen:"
   ]
  },
  {
   "cell_type": "code",
   "execution_count": 66,
   "metadata": {
    "pycharm": {
     "name": "#%%\n"
    }
   },
   "outputs": [
    {
     "name": "stdout",
     "output_type": "stream",
     "text": [
      "[[ 7.94  9.2  -1.64 -2.77 -4.54]\n",
      " [-0.   -6.52  4.27  7.18  0.93]\n",
      " [ 0.   -1.02 10.85  2.79 -6.72]\n",
      " [ 0.   -8.75  4.71 -7.3   0.82]\n",
      " [-0.   -4.26 -2.86  9.09 -7.54]]\n"
     ]
    }
   ],
   "source": [
    "print(A1)"
   ]
  },
  {
   "cell_type": "markdown",
   "metadata": {
    "pycharm": {
     "name": "#%% md\n"
    }
   },
   "source": [
    "### 2. Spalte "
   ]
  },
  {
   "cell_type": "code",
   "execution_count": 67,
   "metadata": {
    "pycharm": {
     "name": "#%%\n"
    }
   },
   "outputs": [],
   "source": [
    "k = 1"
   ]
  },
  {
   "cell_type": "markdown",
   "metadata": {
    "pycharm": {
     "name": "#%% md\n"
    }
   },
   "source": [
    "Die Hyperebene ist definiert durch"
   ]
  },
  {
   "cell_type": "code",
   "execution_count": 68,
   "metadata": {
    "pycharm": {
     "name": "#%%\n"
    }
   },
   "outputs": [
    {
     "name": "stdout",
     "output_type": "stream",
     "text": [
      "[-18.29  -1.02  -8.75  -4.26]\n"
     ]
    }
   ],
   "source": [
    "w = A1[k:,k] + mysign(A1[k,k])*norm(A1[k:,k])*e(m-k)\n",
    "print(w)"
   ]
  },
  {
   "cell_type": "markdown",
   "metadata": {
    "pycharm": {
     "name": "#%% md\n"
    }
   },
   "source": [
    "wobei nun das letzte Resultat $A_1$ benutzt wird. Die Householder-Transformationsmatrix wird nun nur auf die Submatrix von $A_1$ angewand und in der Submatrix von $A_1$ wiederum gespeichert:"
   ]
  },
  {
   "cell_type": "code",
   "execution_count": 69,
   "metadata": {
    "pycharm": {
     "name": "#%%\n"
    }
   },
   "outputs": [],
   "source": [
    "Q2 = HouseholderTransformation(w)\n",
    "A1[k:,k:] = Q2@A1[k:,k:]\n"
   ]
  },
  {
   "cell_type": "markdown",
   "metadata": {
    "pycharm": {
     "name": "#%% md\n"
    }
   },
   "source": [
    "Die Dimension der zweiten Householder-Transformationsmatrix $Q_2$ ist"
   ]
  },
  {
   "cell_type": "code",
   "execution_count": 70,
   "metadata": {
    "pycharm": {
     "name": "#%%\n"
    }
   },
   "outputs": [
    {
     "data": {
      "text/plain": "(4, 4)"
     },
     "execution_count": 70,
     "metadata": {},
     "output_type": "execute_result"
    }
   ],
   "source": [
    "Q2.shape"
   ]
  },
  {
   "cell_type": "markdown",
   "metadata": {
    "pycharm": {
     "name": "#%% md\n"
    }
   },
   "source": [
    "In dem ersten beiden Spalte der Zwischenmatrix $A_1$ steht:"
   ]
  },
  {
   "cell_type": "code",
   "execution_count": 71,
   "metadata": {
    "pycharm": {
     "name": "#%%\n"
    }
   },
   "outputs": [
    {
     "name": "stdout",
     "output_type": "stream",
     "text": [
      "[[  7.94   9.2   -1.64  -2.77  -4.54]\n",
      " [ -0.    11.76  -5.77  -2.08   2.19]\n",
      " [  0.     0.    10.29   2.27  -6.65]\n",
      " [  0.    -0.    -0.1  -11.74   1.42]\n",
      " [ -0.    -0.    -5.21   6.93  -7.24]]\n"
     ]
    }
   ],
   "source": [
    "print(A1)"
   ]
  },
  {
   "cell_type": "markdown",
   "metadata": {
    "pycharm": {
     "name": "#%% md\n"
    }
   },
   "source": [
    "### 3. - 5. Spalte "
   ]
  },
  {
   "cell_type": "markdown",
   "metadata": {
    "pycharm": {
     "name": "#%% md\n"
    }
   },
   "source": [
    "Wir automatisieren nun den Prozess und überschreiben die Submatrizen der Matrix $A_1$ sukzessive:"
   ]
  },
  {
   "cell_type": "code",
   "execution_count": 72,
   "metadata": {
    "pycharm": {
     "name": "#%%\n"
    }
   },
   "outputs": [
    {
     "name": "stdout",
     "output_type": "stream",
     "text": [
      "Spalte 3\n",
      "[[  7.94   9.2   -1.64  -2.77  -4.54]\n",
      " [ -0.    11.76  -5.77  -2.08   2.19]\n",
      " [  0.     0.   -11.53   1.     2.67]\n",
      " [  0.    -0.     0.   -11.73   1.38]\n",
      " [ -0.    -0.     0.     7.23  -9.47]]\n",
      "Spalte 4\n",
      "[[  7.94   9.2   -1.64  -2.77  -4.54]\n",
      " [ -0.    11.76  -5.77  -2.08   2.19]\n",
      " [  0.     0.   -11.53   1.     2.67]\n",
      " [  0.    -0.     0.    13.78  -6.15]\n",
      " [ -0.    -0.     0.    -0.    -7.33]]\n",
      "Spalte 5\n",
      "[[  7.94   9.2   -1.64  -2.77  -4.54]\n",
      " [ -0.    11.76  -5.77  -2.08   2.19]\n",
      " [  0.     0.   -11.53   1.     2.67]\n",
      " [  0.    -0.     0.    13.78  -6.15]\n",
      " [ -0.    -0.     0.    -0.     7.33]]\n"
     ]
    }
   ],
   "source": [
    "for k in range(2,n):\n",
    "    print('Spalte '+str(k+1))\n",
    "    w = A1[k:,k] + mysign(A1[k,k])*norm(A1[k:,k])*e(m-k)\n",
    "    Qk = HouseholderTransformation(w)\n",
    "    A1[k:,k:] = Qk@A1[k:,k:]\n",
    "    print(A1)"
   ]
  },
  {
   "cell_type": "code",
   "execution_count": null,
   "outputs": [],
   "source": [],
   "metadata": {
    "collapsed": false,
    "pycharm": {
     "name": "#%%\n"
    }
   }
  }
 ],
 "metadata": {
  "kernelspec": {
   "display_name": "Python 3 (ipykernel)",
   "language": "python",
   "name": "python3"
  },
  "language_info": {
   "codemirror_mode": {
    "name": "ipython",
    "version": 3
   },
   "file_extension": ".py",
   "mimetype": "text/x-python",
   "name": "python",
   "nbconvert_exporter": "python",
   "pygments_lexer": "ipython3",
   "version": "3.10.5"
  }
 },
 "nbformat": 4,
 "nbformat_minor": 4
}