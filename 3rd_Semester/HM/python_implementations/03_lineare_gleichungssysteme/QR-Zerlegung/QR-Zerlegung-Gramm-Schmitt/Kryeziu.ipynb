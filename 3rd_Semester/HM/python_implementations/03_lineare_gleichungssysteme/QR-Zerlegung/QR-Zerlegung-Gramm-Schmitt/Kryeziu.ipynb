{
 "cells": [
  {
   "cell_type": "markdown",
   "metadata": {
    "pycharm": {
     "name": "#%% md\n"
    }
   },
   "source": [
    "# QR mit Gram-Schmitt"
   ]
  },
  {
   "cell_type": "code",
   "metadata": {
    "pycharm": {
     "name": "#%%\n"
    },
    "ExecuteTime": {
     "end_time": "2024-11-22T08:48:39.681811Z",
     "start_time": "2024-11-22T08:48:39.248551Z"
    }
   },
   "source": [
    "import matplotlib.pyplot as plt\n",
    "import numpy as np\n",
    "from ipywidgets import interactive\n",
    "from numpy.linalg import norm"
   ],
   "outputs": [],
   "execution_count": 1
  },
  {
   "cell_type": "code",
   "execution_count": 50,
   "metadata": {
    "pycharm": {
     "name": "#%%\n"
    }
   },
   "outputs": [],
   "source": [
    "np.set_printoptions(precision=2,suppress=True)"
   ]
  },
  {
   "cell_type": "code",
   "source": [
    "A = np.array([[1,  -2,  3],\n",
    "       [-5, 1,  1],\n",
    "       [2, -1,  3]\n",
    "       ],dtype=float)\n",
    "print(A)"
   ],
   "metadata": {
    "collapsed": false,
    "pycharm": {
     "name": "#%%\n"
    },
    "ExecuteTime": {
     "end_time": "2024-11-22T08:48:39.803903Z",
     "start_time": "2024-11-22T08:48:39.792118Z"
    }
   },
   "outputs": [
    {
     "name": "stdout",
     "output_type": "stream",
     "text": [
      "[[ 1. -2.  3.]\n",
      " [-5.  1.  1.]\n",
      " [ 2. -1.  3.]]\n"
     ]
    }
   ],
   "execution_count": 3
  },
  {
   "cell_type": "code",
   "source": [
    "u0 = A[:, 0]/np.linalg.norm(A[:, 0])\n",
    "u1 = A[:, 1]-np.dot(A[:, 1], u0)*u0\n",
    "u1 = u1/np.linalg.norm(u1)\n",
    "u2 = A[:, 2]-np.dot(A[:, 2], u0)*u0-np.dot(A[:, 2], u1)*u1\n",
    "u2 = u2/np.linalg.norm(u2)\n",
    "\n",
    "Q = np.array([u0, u1, u2]).T\n",
    "print(Q)\n",
    "\n",
    "R = np.array([[np.dot(A[:, 0], u0), np.dot(A[:, 1], u0), np.dot(A[:, 2], u0)],\n",
    "              [0, np.dot(A[:, 1], u1), np.dot(A[:, 2], u1)],\n",
    "              [0, 0, np.dot(A[:, 2], u2)]])\n",
    "print(R)\n",
    "\n",
    "print(Q@R-A)"
   ],
   "metadata": {
    "collapsed": false,
    "pycharm": {
     "name": "#%%\n"
    },
    "ExecuteTime": {
     "end_time": "2024-11-22T08:48:39.952193Z",
     "start_time": "2024-11-22T08:48:39.944916Z"
    }
   },
   "outputs": [
    {
     "name": "stdout",
     "output_type": "stream",
     "text": [
      "[[ 0.18257419 -0.9358192  -0.30151134]\n",
      " [-0.91287093 -0.27524094  0.30151134]\n",
      " [ 0.36514837 -0.22019275  0.90453403]]\n",
      "[[ 5.47722558 -1.64316767  0.73029674]\n",
      " [ 0.          1.81659021 -3.7432768 ]\n",
      " [ 0.          0.          2.11057941]]\n",
      "[[-1.11022302e-16  0.00000000e+00  0.00000000e+00]\n",
      " [ 0.00000000e+00  0.00000000e+00  0.00000000e+00]\n",
      " [-2.22044605e-16  0.00000000e+00  0.00000000e+00]]\n"
     ]
    }
   ],
   "execution_count": 5
  },
  {
   "cell_type": "code",
   "execution_count": null,
   "outputs": [],
   "source": [],
   "metadata": {
    "collapsed": false,
    "pycharm": {
     "name": "#%%\n"
    }
   }
  }
 ],
 "metadata": {
  "kernelspec": {
   "display_name": "Python 3 (ipykernel)",
   "language": "python",
   "name": "python3"
  },
  "language_info": {
   "codemirror_mode": {
    "name": "ipython",
    "version": 3
   },
   "file_extension": ".py",
   "mimetype": "text/x-python",
   "name": "python",
   "nbconvert_exporter": "python",
   "pygments_lexer": "ipython3",
   "version": "3.10.5"
  }
 },
 "nbformat": 4,
 "nbformat_minor": 4
}
